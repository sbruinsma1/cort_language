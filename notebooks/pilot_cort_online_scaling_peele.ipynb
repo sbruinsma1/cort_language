{
 "cells": [
  {
   "cell_type": "code",
<<<<<<< HEAD
<<<<<<< HEAD
   "execution_count": 18,
=======
   "execution_count": 3,
>>>>>>> 3701749d95f2739273e7130003c0e321da692d14
=======
   "execution_count": 1,
>>>>>>> e2d7198ad8d37f957ff0fa09139e7e056c84355e
   "metadata": {},
   "outputs": [],
   "source": [
    "# Load in libraries\n",
    "import numpy as np\n",
    "import pandas as pd\n",
    "import os\n",
    "import glob\n",
    "import re\n",
    "import matplotlib.pyplot as plt\n",
    "import seaborn as sns\n",
    "import re\n",
    "from pathlib import Path\n",
    "\n",
    "import warnings\n",
    "warnings.filterwarnings(\"ignore\")\n",
    "\n",
    "# load in directories\n",
    "from experiment_code.constants import Defaults"
   ]
  },
  {
   "cell_type": "markdown",
   "metadata": {},
   "source": [
    "## Make spreadsheet"
   ]
  },
  {
   "cell_type": "code",
<<<<<<< HEAD
<<<<<<< HEAD
   "execution_count": 19,
=======
   "execution_count": 254,
>>>>>>> 3701749d95f2739273e7130003c0e321da692d14
=======
   "execution_count": 2,
>>>>>>> e2d7198ad8d37f957ff0fa09139e7e056c84355e
   "metadata": {},
   "outputs": [],
   "source": [
    "def make_gorilla_spreadsheet(filename=\"Peele_cloze_3.csv\", num_sentences_per_block=180, num_blocks=11, num_breaks_per_block=2, trial_dur_ms=10000, iti_dur=500):\n",
    "\n",
    "    # load in peele spreadsheet\n",
    "    df = pd.read_csv(os.path.join(Defaults.STIM_DIR, filename))\n",
    "\n",
<<<<<<< HEAD
    "# load in peele spreadsheet\n",
    "df = pd.read_csv(file_list[0])"
   ]
  },
  {
   "cell_type": "code",
   "execution_count": 20,
   "metadata": {},
   "outputs": [],
   "source": [
    "# add in new sentence columns\n",
    "\n",
    "df['sentence'] = df['sentence'].str.extract(pat = \"([A-Za-z ,']+)\")\n",
    "df['full_sentence'] = df['sentence'] + '' + df['target word']\n",
    "                                          "
   ]
  },
  {
   "cell_type": "code",
   "execution_count": 21,
   "metadata": {},
   "outputs": [],
   "source": [
    "# hardcode task parameters\n",
=======
    "    # outname\n",
    "    outname = Defaults.TARGET_DIR / f'all_blocks_{num_sentences_per_block}_trials.csv'\n",
    "\n",
    "    # number of trials per block\n",
    "    trials_per_block = np.cumsum(np.tile(num_sentences_per_block, num_blocks+1))\n",
    "    trials_per_block = [0] + list(trials_per_block)\n",
    "\n",
    "    # add in new sentence columns\n",
    "    df['sentence'] = df['sentence'].str.extract(pat = \"([A-Za-z ,']+)\")\n",
    "    df['full_sentence'] = df['sentence'] + '' + df['target word']\n",
    "\n",
    "    # define new dataframe\n",
    "    df_new = pd.DataFrame({'display': np.tile('trial', num_sentences_per_block), 'iti_dur_ms':np.tile(iti_dur, num_sentences_per_block), 'trial_dur_ms': np.tile(trial_dur_ms, num_sentences_per_block), 'ShowProgressBar':np.tile(0, num_sentences_per_block)}, columns=['display', 'iti_dur_ms', 'trial_dur_ms', 'ShowProgressBar'])\n",
    "\n",
    "    # add instructions, breaks, and end display per block\n",
    "    df_new = pd.concat([pd.DataFrame([{'display': 'instructions'}]), df_new], ignore_index=True, sort=False)\n",
    "    df_new = df_new.append([{'display': 'end'}], ignore_index=True, sort=False)\n",
    "    trials_before_break = np.tile(np.round(len(df_new)/(num_breaks_per_block+1)), num_breaks_per_block)\n",
    "    breaks = np.cumsum(trials_before_break).astype(int)\n",
    "    df_new.loc[breaks] = float(\"NaN\")\n",
    "    df_new.set_value(breaks, 'display', 'break')\n",
    "    df_new.set_value(breaks, 'ShowProgressBar', 1)\n",
>>>>>>> 3701749d95f2739273e7130003c0e321da692d14
    "\n",
    "    # add new version as column\n",
    "    for i, block in enumerate(trials_per_block[:-1]):\n",
    "        start_trial = trials_per_block[i]\n",
    "        end_trial = trials_per_block[i+1]\n",
    "        new_version = f'V{i+1}'\n",
    "        df_new[new_version] =  [float(\"NaN\")] + list(df['full_sentence'].loc[np.arange(start_trial, end_trial)].values) + [float(\"NaN\")]\n",
    "\n",
    "    df_new.to_csv(outname, header=True, index=True)\n"
   ]
  },
  {
   "cell_type": "code",
<<<<<<< HEAD
<<<<<<< HEAD
   "execution_count": 22,
=======
   "execution_count": 255,
>>>>>>> 3701749d95f2739273e7130003c0e321da692d14
=======
   "execution_count": 3,
>>>>>>> e2d7198ad8d37f957ff0fa09139e7e056c84355e
   "metadata": {},
   "outputs": [
    {
     "ename": "NameError",
     "evalue": "name 'breaks' is not defined",
     "output_type": "error",
     "traceback": [
      "\u001b[0;31m---------------------------------------------------------------------------\u001b[0m",
      "\u001b[0;31mNameError\u001b[0m                                 Traceback (most recent call last)",
      "\u001b[0;32m<ipython-input-22-dc2f5e8ae6aa>\u001b[0m in \u001b[0;36m<module>\u001b[0;34m\u001b[0m\n\u001b[1;32m     17\u001b[0m     \u001b[0mdf_new\u001b[0m \u001b[0;34m=\u001b[0m \u001b[0mpd\u001b[0m\u001b[0;34m.\u001b[0m\u001b[0mconcat\u001b[0m\u001b[0;34m(\u001b[0m\u001b[0;34m[\u001b[0m\u001b[0mpd\u001b[0m\u001b[0;34m.\u001b[0m\u001b[0mDataFrame\u001b[0m\u001b[0;34m(\u001b[0m\u001b[0;34m[\u001b[0m\u001b[0;34m{\u001b[0m\u001b[0;34m'display'\u001b[0m\u001b[0;34m:\u001b[0m \u001b[0;34m'instructions'\u001b[0m\u001b[0;34m}\u001b[0m\u001b[0;34m]\u001b[0m\u001b[0;34m)\u001b[0m\u001b[0;34m,\u001b[0m \u001b[0mdf_new\u001b[0m\u001b[0;34m]\u001b[0m\u001b[0;34m,\u001b[0m \u001b[0mignore_index\u001b[0m\u001b[0;34m=\u001b[0m\u001b[0;32mTrue\u001b[0m\u001b[0;34m,\u001b[0m \u001b[0msort\u001b[0m\u001b[0;34m=\u001b[0m\u001b[0;32mFalse\u001b[0m\u001b[0;34m)\u001b[0m\u001b[0;34m\u001b[0m\u001b[0;34m\u001b[0m\u001b[0m\n\u001b[1;32m     18\u001b[0m     \u001b[0mdf_new\u001b[0m \u001b[0;34m=\u001b[0m \u001b[0mdf_new\u001b[0m\u001b[0;34m.\u001b[0m\u001b[0mappend\u001b[0m\u001b[0;34m(\u001b[0m\u001b[0;34m[\u001b[0m\u001b[0;34m{\u001b[0m\u001b[0;34m'display'\u001b[0m\u001b[0;34m:\u001b[0m \u001b[0;34m'end'\u001b[0m\u001b[0;34m}\u001b[0m\u001b[0;34m]\u001b[0m\u001b[0;34m,\u001b[0m \u001b[0mignore_index\u001b[0m\u001b[0;34m=\u001b[0m\u001b[0;32mTrue\u001b[0m\u001b[0;34m,\u001b[0m \u001b[0msort\u001b[0m\u001b[0;34m=\u001b[0m\u001b[0;32mFalse\u001b[0m\u001b[0;34m)\u001b[0m\u001b[0;34m\u001b[0m\u001b[0;34m\u001b[0m\u001b[0m\n\u001b[0;32m---> 19\u001b[0;31m     \u001b[0mdf_new\u001b[0m\u001b[0;34m.\u001b[0m\u001b[0mloc\u001b[0m\u001b[0;34m[\u001b[0m\u001b[0mbreaks\u001b[0m\u001b[0;34m]\u001b[0m\u001b[0;34m[\u001b[0m\u001b[0;34m'display'\u001b[0m\u001b[0;34m]\u001b[0m \u001b[0;34m=\u001b[0m \u001b[0;34m'break'\u001b[0m\u001b[0;34m\u001b[0m\u001b[0;34m\u001b[0m\u001b[0m\n\u001b[0m\u001b[1;32m     20\u001b[0m     \u001b[0mdf_new\u001b[0m\u001b[0;34m.\u001b[0m\u001b[0mloc\u001b[0m\u001b[0;34m[\u001b[0m\u001b[0mbreaks\u001b[0m\u001b[0;34m]\u001b[0m\u001b[0;34m[\u001b[0m\u001b[0;34m'ShowProgressBar'\u001b[0m\u001b[0;34m]\u001b[0m \u001b[0;34m=\u001b[0m \u001b[0;36m1\u001b[0m\u001b[0;34m\u001b[0m\u001b[0;34m\u001b[0m\u001b[0m\n\u001b[1;32m     21\u001b[0m \u001b[0;34m\u001b[0m\u001b[0m\n",
      "\u001b[0;31mNameError\u001b[0m: name 'breaks' is not defined"
     ]
    }
   ],
   "source": [
    "df_new = make_gorilla_spreadsheet(num_sentences_per_block=4)"
   ]
  },
  {
   "cell_type": "code",
   "execution_count": null,
   "metadata": {},
   "outputs": [],
   "source": []
  },
  {
   "cell_type": "code",
   "execution_count": null,
   "metadata": {},
   "outputs": [],
   "source": []
  },
  {
   "cell_type": "code",
   "execution_count": null,
   "metadata": {},
   "outputs": [],
   "source": []
  }
 ],
 "metadata": {
  "kernelspec": {
   "display_name": "cort_language",
   "language": "python",
   "name": "cort_language"
  },
  "language_info": {
   "codemirror_mode": {
    "name": "ipython",
    "version": 3
   },
   "file_extension": ".py",
   "mimetype": "text/x-python",
   "name": "python",
   "nbconvert_exporter": "python",
   "pygments_lexer": "ipython3",
   "version": "3.7.4"
  }
 },
 "nbformat": 4,
 "nbformat_minor": 4
}
