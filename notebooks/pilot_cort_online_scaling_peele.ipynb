{
 "cells": [
  {
   "cell_type": "code",
   "execution_count": 1,
   "metadata": {},
   "outputs": [],
   "source": [
    "# Load in libraries\n",
    "import numpy as np\n",
    "import pandas as pd\n",
    "import os\n",
    "import glob\n",
    "import re\n",
    "import matplotlib.pyplot as plt\n",
    "import seaborn as sns\n",
    "import re\n",
    "from pathlib import Path\n",
    "\n",
    "import warnings\n",
    "warnings.filterwarnings(\"ignore\")\n",
    "\n",
    "# load in directories\n",
    "from experiment_code.constants import Defaults"
   ]
  },
  {
   "cell_type": "markdown",
   "metadata": {},
   "source": [
    "## Make spreadsheet"
   ]
  },
  {
   "cell_type": "code",
   "execution_count": 2,
   "metadata": {},
   "outputs": [],
   "source": [
    "def make_gorilla_spreadsheet(filename=\"Peele_cloze_3.csv\", num_sentences_per_block=180, num_blocks=11, num_breaks_per_block=2, trial_dur_ms=10000, iti_dur=500):\n",
    "\n",
    "    # load in peele spreadsheet\n",
    "    df = pd.read_csv(os.path.join(Defaults.STIM_DIR, filename))\n",
    "\n",
    "    # outname\n",
    "    outname = Defaults.TARGET_DIR / f'all_blocks_{num_sentences_per_block}_trials.csv'\n",
    "\n",
    "    # number of trials per block\n",
    "    trials_per_block = np.cumsum(np.tile(num_sentences_per_block, num_blocks+1))\n",
    "    trials_per_block = [0] + list(trials_per_block)\n",
    "\n",
    "    # add in new sentence columns\n",
    "    df['sentence'] = df['sentence'].str.extract(pat = \"([A-Za-z ,']+)\")\n",
    "    df['full_sentence'] = df['sentence'] + '' + df['target word']\n",
    "\n",
    "    # define new dataframe\n",
    "    df_new = pd.DataFrame({'display': np.tile('trial', num_sentences_per_block), 'iti_dur_ms':np.tile(iti_dur, num_sentences_per_block), 'trial_dur_ms': np.tile(trial_dur_ms, num_sentences_per_block), 'ShowProgressBar':np.tile(0, num_sentences_per_block)}, columns=['display', 'iti_dur_ms', 'trial_dur_ms', 'ShowProgressBar'])\n",
    "\n",
    "    # add instructions, breaks, and end display per block\n",
    "    df_new = pd.concat([pd.DataFrame([{'display': 'instructions'}]), df_new], ignore_index=True, sort=False)\n",
    "    df_new = df_new.append([{'display': 'end'}], ignore_index=True, sort=False)\n",
    "    trials_before_break = np.tile(np.round(len(df_new)/(num_breaks_per_block+1)), num_breaks_per_block)\n",
    "    breaks = np.cumsum(trials_before_break).astype(int)\n",
    "    df_new.loc[breaks] = float(\"NaN\")\n",
    "    df_new.set_value(breaks, 'display', 'break')\n",
    "    df_new.set_value(breaks, 'ShowProgressBar', 1)\n",
    "\n",
    "    # add new version as column\n",
    "    for i, block in enumerate(trials_per_block[:-1]):\n",
    "        start_trial = trials_per_block[i]\n",
    "        end_trial = trials_per_block[i+1]\n",
    "        new_version = f'V{i+1}'\n",
    "        df_new[new_version] =  [float(\"NaN\")] + list(df['full_sentence'].loc[np.arange(start_trial, end_trial)].values) + [float(\"NaN\")]\n",
    "\n",
    "    df_new.to_csv(outname, header=True, index=True)\n"
   ]
  },
  {
   "cell_type": "code",
   "execution_count": 3,
   "metadata": {},
   "outputs": [],
   "source": [
    "df_new = make_gorilla_spreadsheet(num_sentences_per_block=4)"
   ]
  },
  {
   "cell_type": "code",
   "execution_count": null,
   "metadata": {},
   "outputs": [],
   "source": []
  }
 ],
 "metadata": {
  "kernelspec": {
   "display_name": "cort_language",
   "language": "python",
   "name": "cort_language"
  },
  "language_info": {
   "codemirror_mode": {
    "name": "ipython",
    "version": 3
   },
   "file_extension": ".py",
   "mimetype": "text/x-python",
   "name": "python",
   "nbconvert_exporter": "python",
   "pygments_lexer": "ipython3",
   "version": "3.7.4"
  }
 },
 "nbformat": 4,
 "nbformat_minor": 4
}
