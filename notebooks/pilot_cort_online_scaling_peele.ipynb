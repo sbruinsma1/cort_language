{
 "cells": [
  {
   "cell_type": "code",
   "execution_count": 1,
   "metadata": {},
   "outputs": [],
   "source": [
    "# Load in libraries\n",
    "\n",
    "import numpy as np\n",
    "import pandas as pd\n",
    "import os\n",
    "import glob\n",
    "import re\n",
    "import matplotlib.pyplot as plt\n",
    "import seaborn as sns\n",
    "import re\n",
    "from pathlib import Path\n",
    "\n",
    "import warnings\n",
    "warnings.filterwarnings(\"ignore\")\n",
    "\n",
    "%matplotlib inline\n",
    "\n",
    "# load in directories\n",
    "from experiment_code.constants import Defaults"
   ]
  },
  {
   "cell_type": "markdown",
   "metadata": {},
   "source": [
    "## Make spreadsheet"
   ]
  },
  {
   "cell_type": "code",
   "execution_count": 2,
   "metadata": {},
   "outputs": [],
   "source": [
    "os.chdir(Defaults.STIM_DIR)\n",
    "\n",
    "# other option is to hardcode name of csv\n",
    "file_list = glob.glob('*')\n",
    "\n",
    "# load in peele spreadsheet\n",
    "df = pd.read_csv(file_list[0])"
   ]
  },
  {
   "cell_type": "code",
   "execution_count": 3,
   "metadata": {},
   "outputs": [],
   "source": [
    "# add in new sentence columns\n",
    "\n",
    "df['sentence'] = df['sentence'].str.extract(pat = \"([A-Za-z ,']+)\")\n",
    "df['full_sentence'] = df['sentence'] + '' + df['target word']\n",
    "                                          "
   ]
  },
  {
   "cell_type": "code",
   "execution_count": 4,
   "metadata": {},
   "outputs": [
    {
     "data": {
      "text/plain": [
       "\"He called home from college saying he'd met a girl\""
      ]
     },
     "execution_count": 4,
     "metadata": {},
     "output_type": "execute_result"
    }
   ],
   "source": [
    "df['full_sentence'].iloc[11]"
   ]
  },
  {
   "cell_type": "code",
   "execution_count": 5,
   "metadata": {},
   "outputs": [],
   "source": [
    "# hardcode task parameters\n",
    "\n",
    "num_sentences_per_block = 180\n",
    "trial_dur_ms = 10000\n",
    "iti_dur = 500\n",
    "\n",
    "# number of trials per block\n",
    "trials_per_block = np.arange(start=1, stop=len(df) - 1, step=num_sentences_per_block)"
   ]
  },
  {
   "cell_type": "code",
   "execution_count": 6,
   "metadata": {},
   "outputs": [],
   "source": [
    "# make gorilla spreadsheet\n",
    "\n",
    "outname = Defaults.TARGET_DIR / f'all_blocks_{num_sentences_per_block}_trials.csv'\n",
    "\n",
    "df_all = pd.DataFrame()\n",
    "for i, block in enumerate(trials_per_block[:-1]):\n",
    "    df_new = []\n",
    "    df_new = df.iloc[trials_per_block[i]:trials_per_block[i+1]]\n",
    "    df_new['display'] = 'trial'\n",
    "    df_new['iti_dur_ms'] = iti_dur\n",
    "    df_new['trial_dur_ms'] = trial_dur_ms\n",
    "    df_new['randomise_blocks'] = i+1\n",
    "    \n",
    "    # if it's the first block - set instructions\n",
    "    if i == 0: \n",
    "        df_new = pd.concat([pd.DataFrame([{'display': 'instructions'}]), df_new], ignore_index=False, sort=True)\n",
    "    elif i == len(trials_per_block)-2: \n",
    "        df_new = df_new.append([{'display': 'end'}], ignore_index=True, sort=False)\n",
    "    \n",
    "    df_all = pd.concat([df_all, df_new], ignore_index=False, sort=False)\n",
    "    \n",
    "df_all.to_csv(outname, header=True, index=False)"
   ]
  },
  {
   "cell_type": "code",
   "execution_count": null,
   "metadata": {},
   "outputs": [],
   "source": []
  },
  {
   "cell_type": "code",
   "execution_count": null,
   "metadata": {},
   "outputs": [],
   "source": []
  }
 ],
 "metadata": {
  "kernelspec": {
   "display_name": "cort_language",
   "language": "python",
   "name": "cort_language"
  },
  "language_info": {
   "codemirror_mode": {
    "name": "ipython",
    "version": 3
   },
   "file_extension": ".py",
   "mimetype": "text/x-python",
   "name": "python",
   "nbconvert_exporter": "python",
   "pygments_lexer": "ipython3",
   "version": "3.7.4"
  }
 },
 "nbformat": 4,
 "nbformat_minor": 4
}
