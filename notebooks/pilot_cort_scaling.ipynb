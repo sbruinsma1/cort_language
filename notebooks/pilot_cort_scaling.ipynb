{
 "cells": [
  {
   "cell_type": "code",
   "execution_count": 10,
   "metadata": {},
   "outputs": [],
   "source": [
    "import numpy as np\n",
    "import pandas as pd\n",
    "import os\n",
    "import glob\n",
    "import re\n",
    "import matplotlib.pyplot as plt\n",
    "\n",
    "from pathlib import Path"
   ]
  },
  {
   "cell_type": "markdown",
   "metadata": {},
   "source": [
    "## Load in Participant Info"
   ]
  },
  {
   "cell_type": "code",
   "execution_count": 8,
   "metadata": {},
   "outputs": [],
   "source": [
    "file_name = \"Participant Info.csv\"\n",
    "\n",
    "fpath = Path(file_name).absolute()\n",
    "\n",
    "RAW_DIR = os.path.join(fpath.parent.parent, \"data\", \"raw\")\n",
    "\n",
    "df_info = pd.read_csv(os.path.join(RAW_DIR, file_name))"
   ]
  },
  {
   "cell_type": "markdown",
   "metadata": {},
   "source": [
    "## Load in subject dataframes and concatenate"
   ]
  },
  {
   "cell_type": "code",
   "execution_count": 9,
   "metadata": {},
   "outputs": [],
   "source": [
    "# navigate to raw data folder\n",
    "os.chdir(RAW_DIR)\n",
    "\n",
    "file_list = glob.glob(\"*cort_scaling*\")\n",
    "\n",
    "\n",
    "# make empty dataframe\n",
    "df_all = pd.DataFrame()\n",
    "# loop over each subject file\n",
    "for file in file_list:\n",
    "    # reading csv for subj\n",
    "    df = pd.read_csv(file)\n",
    "    cols = df.columns\n",
    "    col_to_rename = cols[df.columns.str.find(\"CoRT\")==0][0]\n",
    "    df = df.rename(columns={col_to_rename: 'CoRT'})\n",
    "    df['subj_id'] = re.findall(r'(s\\w.)_', file)[0]\n",
    "    # concats each subj together\n",
    "    df_all = pd.concat([df_all, df], sort=True)\n",
    "    \n",
    "# merge df info dataframe and subj data dataframes\n",
    "df_merged = df_all.merge(df_info, on='subj_id')\n"
   ]
  },
  {
   "cell_type": "markdown",
   "metadata": {},
   "source": [
    "## Visualization "
   ]
  },
  {
   "cell_type": "code",
   "execution_count": null,
   "metadata": {},
   "outputs": [],
   "source": []
  }
 ],
 "metadata": {
  "kernelspec": {
   "display_name": "cort_language",
   "language": "python",
   "name": "cort_language"
  }
 },
 "nbformat": 4,
 "nbformat_minor": 2
}
