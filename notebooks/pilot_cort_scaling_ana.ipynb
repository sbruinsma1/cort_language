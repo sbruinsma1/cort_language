{
 "cells": [
  {
   "cell_type": "code",
   "execution_count": 1,
   "metadata": {},
   "outputs": [],
   "source": [
    "# Load in libraries\n",
    "\n",
    "import numpy as np\n",
    "import pandas as pd\n",
    "import os\n",
    "import glob\n",
    "import re\n",
    "import matplotlib.pyplot as plt\n",
    "import seaborn as sns\n",
    "import re\n",
    "\n",
    "from pathlib import Path\n",
    "\n",
    "import warnings\n",
    "warnings.filterwarnings(\"ignore\")\n",
    "\n",
    "%matplotlib inline"
   ]
  },
  {
   "cell_type": "markdown",
   "metadata": {},
   "source": [
    "## Load in Participant Info"
   ]
  },
  {
   "cell_type": "code",
   "execution_count": 2,
   "metadata": {},
   "outputs": [],
   "source": [
    "file_name = \"Participant Info.csv\"\n",
    "\n",
    "fpath = Path(file_name).absolute()\n",
    "\n",
    "RAW_DIR = os.path.join(fpath.parent.parent, \"data\", \"raw\")\n",
    "\n",
    "df_info = pd.read_csv(os.path.join(RAW_DIR, file_name))"
   ]
  },
  {
   "cell_type": "markdown",
   "metadata": {},
   "source": [
    "## Load in subject dataframes and concatenate"
   ]
  },
  {
   "cell_type": "code",
   "execution_count": 3,
   "metadata": {},
   "outputs": [],
   "source": [
    "# navigate to raw data folder\n",
    "os.chdir(RAW_DIR)\n",
    "\n",
    "file_list = glob.glob(\"*cort_scaling*\")\n",
    "\n",
    "# make empty dataframe\n",
    "df_all = pd.DataFrame()\n",
    "# loop over each subject file\n",
    "for file in file_list:\n",
    "    # reading csv for subj\n",
    "    df = pd.read_csv(file)\n",
    "    cols = df.columns\n",
    "    col_to_rename = cols[df.columns.str.find(\"CoRT\")==0][0]\n",
    "    df = df.rename(columns={col_to_rename: 'CoRT'})\n",
    "    df['subj_id'] = re.findall(r'(s\\w.)_', file)[0]\n",
    "    # concats each subj together\n",
    "    df_all = pd.concat([df_all, df], sort=True)\n",
    "    \n",
    "# merge df info dataframe and subj data dataframes\n",
    "df_merged = df_all.merge(df_info, on='subj_id')\n"
   ]
  },
  {
   "cell_type": "code",
   "execution_count": 4,
   "metadata": {},
   "outputs": [],
   "source": [
    "def extract_string(x):\n",
    "    if type(x)==str:\n",
    "#         value = x.str.extract('(\\d+)')\n",
    "        value = re.findall(r'\\d+', x) \n",
    "        value = float(value[0])\n",
    "    elif type(x)==float:\n",
    "        value = x\n",
    "    elif type(x)==int:\n",
    "        value = float(x)\n",
    "        \n",
    "    return value"
   ]
  },
  {
   "cell_type": "code",
   "execution_count": 5,
   "metadata": {},
   "outputs": [],
   "source": [
    "# clean up\n",
    "\n",
    "df_merged['CoRT'] = df_merged['CoRT'].apply(lambda x: extract_string(x))\n"
   ]
  },
  {
   "cell_type": "markdown",
   "metadata": {},
   "source": [
    "## Visualization "
   ]
  },
  {
   "cell_type": "markdown",
   "metadata": {},
   "source": [
    "## Distribution of CoRT scores"
   ]
  },
  {
   "cell_type": "code",
   "execution_count": 6,
   "metadata": {},
   "outputs": [
    {
     "data": {
      "image/png": "[encoded data removed]",
      "text/plain": [
       "<Figure size 432x288 with 1 Axes>"
      ]
     },
     "metadata": {
      "needs_background": "light"
     },
     "output_type": "display_data"
    }
   ],
   "source": [
    "sns.distplot(df_merged['CoRT'], bins=10, kde=True)\n",
    "\n",
    "# label\n",
    "plt.xlabel('CoRT Scaling')\n",
    "plt.ylabel('Distribution of scores')\n",
    "plt.xticks(np.arange(1, 6, step=1.0))\n",
    "plt.title('Distribution of CoRT Scores');\n"
   ]
  },
  {
   "cell_type": "markdown",
   "metadata": {},
   "source": [
    "## Distribution of CoRT scores broken down by group (expert versus novice)"
   ]
  },
  {
   "cell_type": "code",
   "execution_count": 9,
   "metadata": {},
   "outputs": [],
   "source": [
    "\n",
    "# sns.distplot(df_merged.query('group==\"novice\"')['CoRT'], bins=10, kde=True)\n",
    "\n",
    "# sns.distplot(df_merged.query('group==\"expert\"')['CoRT'], bins=10, kde=True)\n",
    "\n",
    "# # label (ADD LEGEND)\n",
    "# plt.xlabel('CoRT Scaling')\n",
    "# plt.ylabel('Distribution of scores')\n",
    "# plt.xticks(np.arange(1, 6, step=1.0))\n",
    "# plt.title('Distribution of CoRT Scores');\n"
   ]
  },
  {
   "cell_type": "code",
   "execution_count": 8,
   "metadata": {},
   "outputs": [
    {
     "data": {
      "image/png": "[encoded data removed]",
      "text/plain": [
       "<Figure size 432x288 with 1 Axes>"
      ]
     },
     "metadata": {
      "needs_background": "light"
     },
     "output_type": "display_data"
    }
   ],
   "source": [
    "sns.countplot(x='CoRT', hue='group', data=df_merged);"
   ]
  },
  {
   "cell_type": "markdown",
   "metadata": {},
   "source": [
    "## Assess reliability between groups (expert versus novice)"
   ]
  },
  {
   "cell_type": "code",
   "execution_count": null,
   "metadata": {},
   "outputs": [],
   "source": []
  },
  {
   "cell_type": "markdown",
   "metadata": {},
   "source": [
    "## Grouping Sentences and Averaging CoRT Score"
   ]
  }
 ],
 "metadata": {
  "kernelspec": {
   "display_name": "cort_language",
   "language": "python",
   "name": "cort_language"
  },
  "language_info": {
   "codemirror_mode": {
    "name": "ipython",
    "version": 3
   },
   "file_extension": ".py",
   "mimetype": "text/x-python",
   "name": "python",
   "nbconvert_exporter": "python",
   "pygments_lexer": "ipython3",
   "version": "3.7.4"
  }
 },
 "nbformat": 4,
 "nbformat_minor": 2
}
